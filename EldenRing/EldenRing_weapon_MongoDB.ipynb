{
 "cells": [
  {
   "cell_type": "code",
   "execution_count": 1,
   "id": "8d09c0be",
   "metadata": {},
   "outputs": [],
   "source": [
    "# Dependencies\n",
    "from bs4 import BeautifulSoup\n",
    "import requests\n",
    "import pandas as pd\n",
    "import pymongo"
   ]
  },
  {
   "cell_type": "code",
   "execution_count": 2,
   "id": "e97b23af",
   "metadata": {},
   "outputs": [],
   "source": [
    "conn = 'mongodb://localhost:27017'\n",
    "client = pymongo.MongoClient(conn)"
   ]
  },
  {
   "cell_type": "code",
   "execution_count": 3,
   "id": "a7922550",
   "metadata": {},
   "outputs": [],
   "source": [
    "db = client.eldenring\n",
    "collection = db.weapon"
   ]
  },
  {
   "cell_type": "code",
   "execution_count": 4,
   "id": "0cd1820b",
   "metadata": {},
   "outputs": [],
   "source": [
    "# URL of page to be scraped\n",
    "url = 'https://eldenring.wiki.fextralife.com/Greatswords'\n",
    "\n",
    "# retrieve page with the reqests module\n",
    "response = requests.get(url)\n",
    "# Create BeautifulSoup object; parse with 'html.parser'\n",
    "soup = BeautifulSoup(response.text, 'html5lib')"
   ]
  },
  {
   "cell_type": "code",
   "execution_count": 5,
   "id": "1c3e2a38",
   "metadata": {},
   "outputs": [
    {
     "name": "stdout",
     "output_type": "stream",
     "text": [
      "['Name', 'Phy', 'Mag', 'Fire', 'Ligh', 'Holy', 'CritBoost', 'Str', 'Dex', 'Int', 'Fai', 'Arc', 'Wgt', 'Skill']\n"
     ]
    }
   ],
   "source": [
    "thead = soup.find('thead')\n",
    "ths = thead.find_all('th')\n",
    "keys = []\n",
    "for th in ths:\n",
    "    keys.append(th.text.strip())\n",
    "print(keys)"
   ]
  },
  {
   "cell_type": "code",
   "execution_count": 6,
   "id": "e585fc5a",
   "metadata": {
    "scrolled": true
   },
   "outputs": [],
   "source": [
    "weapons = ['Greatswords','Axes','Colossal+Swords','Colossal+Weapons','Curved+Greatswords','Curved+Swords','Flails','Greataxes','Halberds','Great+Spears','Hammers','Heavy+Thrusting+Swords','Katanas','Reapers','Spears','Straight+Swords','Thrusting+Swords','Twinblades','Warhammers']\n",
    "for weapon in weapons:\n",
    "    # URL of page to be scraped\n",
    "    url = f'https://eldenring.wiki.fextralife.com/{weapon}'\n",
    "\n",
    "    # retrieve page with the reqests module\n",
    "    response = requests.get(url)\n",
    "    # Create BeautifulSoup object; parse with 'html5lib'\n",
    "    soup = BeautifulSoup(response.text, 'html5lib')\n",
    "    tbody = soup.find('tbody')\n",
    "    trs = tbody.find_all('tr')\n",
    "    for tr in trs:\n",
    "        data = []\n",
    "        post ={}\n",
    "        tds = tr.find_all('td')\n",
    "        for td in tds:\n",
    "            data.append(td.text)\n",
    "        for key in keys:\n",
    "            for value in data:\n",
    "                post[key] = value.strip()\n",
    "                data.remove(value)\n",
    "                break\n",
    "        collection.insert_one(post)"
   ]
  },
  {
   "cell_type": "code",
   "execution_count": null,
   "id": "5d46ee67",
   "metadata": {},
   "outputs": [],
   "source": []
  }
 ],
 "metadata": {
  "kernelspec": {
   "display_name": "Python 3 (ipykernel)",
   "language": "python",
   "name": "python3"
  },
  "language_info": {
   "codemirror_mode": {
    "name": "ipython",
    "version": 3
   },
   "file_extension": ".py",
   "mimetype": "text/x-python",
   "name": "python",
   "nbconvert_exporter": "python",
   "pygments_lexer": "ipython3",
   "version": "3.9.7"
  }
 },
 "nbformat": 4,
 "nbformat_minor": 5
}
